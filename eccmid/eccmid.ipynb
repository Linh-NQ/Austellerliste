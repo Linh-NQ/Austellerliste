{
 "cells": [
  {
   "cell_type": "code",
   "execution_count": 1,
   "id": "6c7a2da0",
   "metadata": {},
   "outputs": [],
   "source": [
    "from selenium import webdriver\n",
    "from webdriver_manager.chrome import ChromeDriverManager\n",
    "from selenium.webdriver.common.keys import Keys\n",
    "from selenium.webdriver.support.ui import WebDriverWait\n",
    "from selenium.webdriver.support import expected_conditions as EC\n",
    "from selenium.webdriver.common.by import By\n",
    "from selenium.webdriver.chrome.options import Options\n",
    "from selenium.webdriver.common.action_chains import ActionChains\n",
    "\n",
    "import pandas as pd\n",
    "import xlwings as xw\n",
    "import time"
   ]
  },
  {
   "cell_type": "code",
   "execution_count": 5,
   "id": "fd0cac83",
   "metadata": {},
   "outputs": [],
   "source": [
    "chrome_options = Options()\n",
    "chrome_options.add_argument(\"--no-sandbox\")\n",
    "chrome_options.add_argument('disable-notifications')\n",
    "\n",
    "# driver = webdriver.Chrome(ChromeDriverManager().install())\n",
    "chrome_driver_path = \"chromedriver.exe\"\n",
    "driver = webdriver.Chrome(executable_path=chrome_driver_path, options = chrome_options)\n",
    "url = 'https://www.eccmid.org/sponsorship-and-exhibition/sponsor-list'\n",
    "driver.get(url)\n",
    "driver.maximize_window()\n",
    "time.sleep(1)\n",
    "accept_xpath = '/html/body/div[1]/div[2]/span[1]'\n",
    "accept = driver.find_element(By.XPATH, accept_xpath)\n",
    "accept.click()\n",
    "time.sleep(1)\n",
    "close_xpath = '//*[@id=\"close\"]/img'\n",
    "close = driver.find_element(By.XPATH, close_xpath)\n",
    "close.click()"
   ]
  },
  {
   "cell_type": "code",
   "execution_count": 6,
   "id": "c9e7e240",
   "metadata": {},
   "outputs": [],
   "source": [
    "# Define a function to scroll to the bottom of the page\n",
    "def scroll_to_bottom():\n",
    "    # Scroll to the bottom of the page\n",
    "    driver.execute_script(\"window.scrollTo(0, document.body.scrollHeight);\")\n",
    "\n",
    "# Get the initial page height\n",
    "initial_height = driver.execute_script(\"return document.body.scrollHeight\")\n",
    "# Perform initial scroll\n",
    "scroll_to_bottom()\n",
    "# Wait for some time to let the content load\n",
    "time.sleep(2)\n",
    "# Keep scrolling until the page height stops increasing\n",
    "while True:\n",
    "    # Scroll to the bottom of the page\n",
    "    scroll_to_bottom()\n",
    "    # Wait for some time to let the content load\n",
    "    time.sleep(2)\n",
    "    # Get the updated page height\n",
    "    new_height = driver.execute_script(\"return document.body.scrollHeight\")\n",
    "    # Check if the page height has stopped increasing\n",
    "    if new_height == initial_height:\n",
    "        break\n",
    "    # Update the initial height for the next iteration\n",
    "    initial_height = new_height"
   ]
  },
  {
   "cell_type": "code",
   "execution_count": 12,
   "id": "7b084c8a",
   "metadata": {},
   "outputs": [],
   "source": [
    "div_xpath = '//*[@id=\"c41055\"]/div/div[2]'\n",
    "\n",
    "# Find the div element\n",
    "div_element = driver.find_element(By.XPATH, div_xpath)\n",
    "\n",
    "# Find all the div elements within the div\n",
    "text_elements = div_element.find_elements(By.XPATH, \".//div\")\n",
    "\n",
    "# Find all the a elements within the div (links)\n",
    "a_elements = div_element.find_elements(By.XPATH, \".//a\")\n",
    "\n",
    "# Extract text and links\n",
    "text_list = [a.text for a in text_elements]\n",
    "link_list = [a.get_attribute(\"href\") for a in a_elements]"
   ]
  },
  {
   "cell_type": "code",
   "execution_count": 18,
   "id": "9ef6f2eb",
   "metadata": {},
   "outputs": [],
   "source": [
    "text_list = [text for text in text_list if text != '']"
   ]
  },
  {
   "cell_type": "code",
   "execution_count": 20,
   "id": "776e6747",
   "metadata": {},
   "outputs": [],
   "source": [
    "# extract austeller und booth\n",
    "name = []\n",
    "booth = []\n",
    "for i in range(len(text_list)):\n",
    "    name.append(text_list[i].split('\\n')[0])\n",
    "    booth.append(text_list[i].split('\\n')[-1].split('Stand')[-1].strip())"
   ]
  },
  {
   "cell_type": "code",
   "execution_count": 23,
   "id": "e4f522b1",
   "metadata": {},
   "outputs": [],
   "source": [
    "# Excel ausfüllen\n",
    "wb = xw.Book('2023 AACC Ausstellerliste_Vorlage.xlsx')\n",
    "sheet = wb.sheets[0]\n",
    "\n",
    "A_col_range = sheet.range('A3:A{}'.format(3+len(name)))\n",
    "A_col_range.value = [[value] for value in name]\n",
    "\n",
    "I_col_range = sheet.range('I3:I{}'.format(3+len(booth)))\n",
    "I_col_range.value = [[value] for value in booth]"
   ]
  },
  {
   "cell_type": "code",
   "execution_count": 24,
   "id": "1f34d9ce",
   "metadata": {},
   "outputs": [],
   "source": [
    "# add hyperlinks\n",
    "for i in range(len(link_list)):\n",
    "    row = 3+i    \n",
    "    cell_row, cell_column = row, 1\n",
    "    cell_address = (cell_row, cell_column)\n",
    "    sheet.range(cell_address).add_hyperlink(link_list[i], text_to_display=name[i])\n",
    "    sheet.range(cell_address).api.Font.Bold = True\n",
    "    sheet.range(cell_address).font.color = (0, 0, 0)\n",
    "    sheet.range(cell_address).api.Font.Size = 14\n",
    "    sheet.range(cell_address).api.Font.Name = 'Verdana'"
   ]
  },
  {
   "cell_type": "code",
   "execution_count": null,
   "id": "51a63873",
   "metadata": {},
   "outputs": [],
   "source": []
  }
 ],
 "metadata": {
  "kernelspec": {
   "display_name": "Python 3 (ipykernel)",
   "language": "python",
   "name": "python3"
  },
  "language_info": {
   "codemirror_mode": {
    "name": "ipython",
    "version": 3
   },
   "file_extension": ".py",
   "mimetype": "text/x-python",
   "name": "python",
   "nbconvert_exporter": "python",
   "pygments_lexer": "ipython3",
   "version": "3.9.16"
  }
 },
 "nbformat": 4,
 "nbformat_minor": 5
}
