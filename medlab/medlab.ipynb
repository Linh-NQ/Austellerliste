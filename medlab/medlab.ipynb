{
 "cells": [
  {
   "cell_type": "code",
   "execution_count": 1,
   "id": "6c7a2da0",
   "metadata": {},
   "outputs": [],
   "source": [
    "from selenium import webdriver\n",
    "from webdriver_manager.chrome import ChromeDriverManager\n",
    "from selenium.webdriver.common.keys import Keys\n",
    "from selenium.webdriver.support.ui import WebDriverWait\n",
    "from selenium.webdriver.support import expected_conditions as EC\n",
    "from selenium.webdriver.common.by import By\n",
    "from selenium.webdriver.chrome.options import Options\n",
    "from selenium.webdriver.common.action_chains import ActionChains\n",
    "\n",
    "import pandas as pd\n",
    "import xlwings as xw\n",
    "import time"
   ]
  },
  {
   "cell_type": "code",
   "execution_count": 28,
   "id": "fd0cac83",
   "metadata": {},
   "outputs": [],
   "source": [
    "chrome_options = Options()\n",
    "chrome_options.add_argument(\"--no-sandbox\")\n",
    "chrome_options.add_argument('disable-notifications')\n",
    "\n",
    "# Medlab\n",
    "# driver = webdriver.Chrome(ChromeDriverManager().install())\n",
    "chrome_driver_path = \"chromedriver.exe\"\n",
    "driver = webdriver.Chrome(executable_path=chrome_driver_path, options = chrome_options)\n",
    "url = 'https://connections.medlabme.com/event/medlab-middle-east-2024/exhibitors/RXZlbnRWaWV3XzY5MTc5Ng==?filters=RmllbGREZWZpbml0aW9uXzIxMjAwMQ%253D%253D%3ARmllbGRWYWx1ZV8xNzMxNTIwNQ%253D%253D%2CRmllbGRWYWx1ZV8xMzY2ODQ4OQ%253D%253D%2CRmllbGRWYWx1ZV8xNzMxNTIxMg%253D%253D%2CRmllbGRWYWx1ZV8xMzY2ODQ5NA%253D%253D%2CRmllbGRWYWx1ZV8xMzY2ODQ5Nw%253D%253D%2CRmllbGRWYWx1ZV8xMzY2ODUwMw%253D%253D%2CRmllbGRWYWx1ZV8xNzMxNTIxMw%253D%253D%2CRmllbGRWYWx1ZV8xMzY2ODUyMQ%253D%253D'\n",
    "driver.get(url)\n",
    "driver.maximize_window()"
   ]
  },
  {
   "cell_type": "code",
   "execution_count": 29,
   "id": "a5b59fa0",
   "metadata": {},
   "outputs": [
    {
     "ename": "NoSuchElementException",
     "evalue": "Message: no such element: Unable to locate element: {\"method\":\"xpath\",\"selector\":\"//*[@id=\"modal-container-1705325769754-0.07986755175320881\"]/div/div/div/div[1]/button[2]/span/span/span\"}\n  (Session info: chrome=120.0.6099.217)\n",
     "output_type": "error",
     "traceback": [
      "\u001b[1;31m---------------------------------------------------------------------------\u001b[0m",
      "\u001b[1;31mNoSuchElementException\u001b[0m                    Traceback (most recent call last)",
      "Cell \u001b[1;32mIn[29], line 7\u001b[0m\n\u001b[0;32m      1\u001b[0m \u001b[38;5;66;03m# Shadow Root, falls Programm es nicht findet, selber klicken\u001b[39;00m\n\u001b[0;32m      2\u001b[0m \u001b[38;5;66;03m# shadow_root = driver.find_element(By.CSS_SELECTOR, \"#usercentrics-root\").shadow_root\u001b[39;00m\n\u001b[0;32m      3\u001b[0m \u001b[38;5;66;03m# sel = '#uc-center-container > div.sc-kdBSHD.gsTflx > div > div.sc-dtBdUo.fzvttm > div > button.sc-dcJsrY.eyWWqo'\u001b[39;00m\n\u001b[0;32m      4\u001b[0m \u001b[38;5;66;03m# accept = WebDriverWait(shadow_root, 10).until(EC.element_to_be_clickable((By.CSS_SELECTOR,sel))) \u001b[39;00m\n\u001b[0;32m      5\u001b[0m \u001b[38;5;66;03m# accept.click()\u001b[39;00m\n\u001b[0;32m      6\u001b[0m accept_xpath \u001b[38;5;241m=\u001b[39m \u001b[38;5;124m'\u001b[39m\u001b[38;5;124m//*[@id=\u001b[39m\u001b[38;5;124m\"\u001b[39m\u001b[38;5;124mmodal-container-1705325769754-0.07986755175320881\u001b[39m\u001b[38;5;124m\"\u001b[39m\u001b[38;5;124m]/div/div/div/div[1]/button[2]/span/span/span\u001b[39m\u001b[38;5;124m'\u001b[39m\n\u001b[1;32m----> 7\u001b[0m accept \u001b[38;5;241m=\u001b[39m \u001b[43mdriver\u001b[49m\u001b[38;5;241;43m.\u001b[39;49m\u001b[43mfind_element\u001b[49m\u001b[43m(\u001b[49m\u001b[43mBy\u001b[49m\u001b[38;5;241;43m.\u001b[39;49m\u001b[43mXPATH\u001b[49m\u001b[43m,\u001b[49m\u001b[43m \u001b[49m\u001b[43maccept_xpath\u001b[49m\u001b[43m)\u001b[49m\n\u001b[0;32m      8\u001b[0m accept\u001b[38;5;241m.\u001b[39mclick()\n",
      "File \u001b[1;32m~\\Anaconda3\\lib\\site-packages\\selenium\\webdriver\\remote\\webdriver.py:976\u001b[0m, in \u001b[0;36mWebDriver.find_element\u001b[1;34m(self, by, value)\u001b[0m\n\u001b[0;32m    974\u001b[0m         by \u001b[38;5;241m=\u001b[39m By\u001b[38;5;241m.\u001b[39mCSS_SELECTOR\n\u001b[0;32m    975\u001b[0m         value \u001b[38;5;241m=\u001b[39m \u001b[38;5;124m'\u001b[39m\u001b[38;5;124m[name=\u001b[39m\u001b[38;5;124m\"\u001b[39m\u001b[38;5;132;01m%s\u001b[39;00m\u001b[38;5;124m\"\u001b[39m\u001b[38;5;124m]\u001b[39m\u001b[38;5;124m'\u001b[39m \u001b[38;5;241m%\u001b[39m value\n\u001b[1;32m--> 976\u001b[0m \u001b[38;5;28;01mreturn\u001b[39;00m \u001b[38;5;28;43mself\u001b[39;49m\u001b[38;5;241;43m.\u001b[39;49m\u001b[43mexecute\u001b[49m\u001b[43m(\u001b[49m\u001b[43mCommand\u001b[49m\u001b[38;5;241;43m.\u001b[39;49m\u001b[43mFIND_ELEMENT\u001b[49m\u001b[43m,\u001b[49m\u001b[43m \u001b[49m\u001b[43m{\u001b[49m\n\u001b[0;32m    977\u001b[0m \u001b[43m    \u001b[49m\u001b[38;5;124;43m'\u001b[39;49m\u001b[38;5;124;43musing\u001b[39;49m\u001b[38;5;124;43m'\u001b[39;49m\u001b[43m:\u001b[49m\u001b[43m \u001b[49m\u001b[43mby\u001b[49m\u001b[43m,\u001b[49m\n\u001b[0;32m    978\u001b[0m \u001b[43m    \u001b[49m\u001b[38;5;124;43m'\u001b[39;49m\u001b[38;5;124;43mvalue\u001b[39;49m\u001b[38;5;124;43m'\u001b[39;49m\u001b[43m:\u001b[49m\u001b[43m \u001b[49m\u001b[43mvalue\u001b[49m\u001b[43m}\u001b[49m\u001b[43m)\u001b[49m[\u001b[38;5;124m'\u001b[39m\u001b[38;5;124mvalue\u001b[39m\u001b[38;5;124m'\u001b[39m]\n",
      "File \u001b[1;32m~\\Anaconda3\\lib\\site-packages\\selenium\\webdriver\\remote\\webdriver.py:321\u001b[0m, in \u001b[0;36mWebDriver.execute\u001b[1;34m(self, driver_command, params)\u001b[0m\n\u001b[0;32m    319\u001b[0m response \u001b[38;5;241m=\u001b[39m \u001b[38;5;28mself\u001b[39m\u001b[38;5;241m.\u001b[39mcommand_executor\u001b[38;5;241m.\u001b[39mexecute(driver_command, params)\n\u001b[0;32m    320\u001b[0m \u001b[38;5;28;01mif\u001b[39;00m response:\n\u001b[1;32m--> 321\u001b[0m     \u001b[38;5;28;43mself\u001b[39;49m\u001b[38;5;241;43m.\u001b[39;49m\u001b[43merror_handler\u001b[49m\u001b[38;5;241;43m.\u001b[39;49m\u001b[43mcheck_response\u001b[49m\u001b[43m(\u001b[49m\u001b[43mresponse\u001b[49m\u001b[43m)\u001b[49m\n\u001b[0;32m    322\u001b[0m     response[\u001b[38;5;124m'\u001b[39m\u001b[38;5;124mvalue\u001b[39m\u001b[38;5;124m'\u001b[39m] \u001b[38;5;241m=\u001b[39m \u001b[38;5;28mself\u001b[39m\u001b[38;5;241m.\u001b[39m_unwrap_value(\n\u001b[0;32m    323\u001b[0m         response\u001b[38;5;241m.\u001b[39mget(\u001b[38;5;124m'\u001b[39m\u001b[38;5;124mvalue\u001b[39m\u001b[38;5;124m'\u001b[39m, \u001b[38;5;28;01mNone\u001b[39;00m))\n\u001b[0;32m    324\u001b[0m     \u001b[38;5;28;01mreturn\u001b[39;00m response\n",
      "File \u001b[1;32m~\\Anaconda3\\lib\\site-packages\\selenium\\webdriver\\remote\\errorhandler.py:242\u001b[0m, in \u001b[0;36mErrorHandler.check_response\u001b[1;34m(self, response)\u001b[0m\n\u001b[0;32m    240\u001b[0m         alert_text \u001b[38;5;241m=\u001b[39m value[\u001b[38;5;124m'\u001b[39m\u001b[38;5;124malert\u001b[39m\u001b[38;5;124m'\u001b[39m]\u001b[38;5;241m.\u001b[39mget(\u001b[38;5;124m'\u001b[39m\u001b[38;5;124mtext\u001b[39m\u001b[38;5;124m'\u001b[39m)\n\u001b[0;32m    241\u001b[0m     \u001b[38;5;28;01mraise\u001b[39;00m exception_class(message, screen, stacktrace, alert_text)\n\u001b[1;32m--> 242\u001b[0m \u001b[38;5;28;01mraise\u001b[39;00m exception_class(message, screen, stacktrace)\n",
      "\u001b[1;31mNoSuchElementException\u001b[0m: Message: no such element: Unable to locate element: {\"method\":\"xpath\",\"selector\":\"//*[@id=\"modal-container-1705325769754-0.07986755175320881\"]/div/div/div/div[1]/button[2]/span/span/span\"}\n  (Session info: chrome=120.0.6099.217)\n"
     ]
    }
   ],
   "source": [
    "# Shadow Root, falls Programm es nicht findet, selber klicken\n",
    "# shadow_root = driver.find_element(By.CSS_SELECTOR, \"#usercentrics-root\").shadow_root\n",
    "# sel = '#uc-center-container > div.sc-kdBSHD.gsTflx > div > div.sc-dtBdUo.fzvttm > div > button.sc-dcJsrY.eyWWqo'\n",
    "# accept = WebDriverWait(shadow_root, 10).until(EC.element_to_be_clickable((By.CSS_SELECTOR,sel))) \n",
    "# accept.click()\n",
    "accept_xpath = '//*[@id=\"modal-container-1705325769754-0.07986755175320881\"]/div/div/div/div[1]/button[2]/span/span/span'\n",
    "accept = driver.find_element(By.XPATH, accept_xpath)\n",
    "accept.click()"
   ]
  },
  {
   "cell_type": "code",
   "execution_count": 30,
   "id": "8bb97710",
   "metadata": {},
   "outputs": [],
   "source": [
    "# Define a function to scroll to the bottom of the page\n",
    "def scroll_to_bottom():\n",
    "    # Scroll to the bottom of the page\n",
    "    driver.execute_script(\"window.scrollTo(0, document.body.scrollHeight);\")\n",
    "\n",
    "# Get the initial page height\n",
    "initial_height = driver.execute_script(\"return document.body.scrollHeight\")\n",
    "# Perform initial scroll\n",
    "scroll_to_bottom()\n",
    "# Wait for some time to let the content load\n",
    "time.sleep(2)\n",
    "# Keep scrolling until the page height stops increasing\n",
    "while True:\n",
    "    # Scroll to the bottom of the page\n",
    "    scroll_to_bottom()\n",
    "    # Wait for some time to let the content load\n",
    "    time.sleep(2)\n",
    "    # Get the updated page height\n",
    "    new_height = driver.execute_script(\"return document.body.scrollHeight\")\n",
    "    # Check if the page height has stopped increasing\n",
    "    if new_height == initial_height:\n",
    "        break\n",
    "    # Update the initial height for the next iteration\n",
    "    initial_height = new_height"
   ]
  },
  {
   "cell_type": "code",
   "execution_count": 31,
   "id": "4aa1edb1",
   "metadata": {},
   "outputs": [],
   "source": [
    "div_xpath = '//*[@id=\"__next\"]/div[3]/div/div[3]/div[2]/div/div/div/div[2]'\n",
    "\n",
    "# Find the div element\n",
    "div_element = driver.find_element(By.XPATH, div_xpath)\n",
    "\n",
    "# Find all the a elements within the div\n",
    "a_elements = div_element.find_elements(By.XPATH, \".//a\")\n",
    "\n",
    "# Extract text and links\n",
    "text_list = [a.text for a in a_elements]\n",
    "link_list = [a.get_attribute(\"href\") for a in a_elements]"
   ]
  },
  {
   "cell_type": "code",
   "execution_count": 32,
   "id": "2a3a84a7",
   "metadata": {},
   "outputs": [],
   "source": [
    "# extract austeller und booth\n",
    "name = []\n",
    "booth = []\n",
    "for i in range(len(text_list)):\n",
    "    name.append(text_list[i].split('\\n')[0])\n",
    "    booth.append(text_list[i].split('\\n')[-1])"
   ]
  },
  {
   "cell_type": "code",
   "execution_count": 16,
   "id": "ef69a95b",
   "metadata": {},
   "outputs": [],
   "source": [
    "# Excel ausfüllen\n",
    "wb = xw.Book('2023 AACC Ausstellerliste_Vorlage.xlsx')\n",
    "sheet = wb.sheets[0]\n",
    "\n",
    "A_col_range = sheet.range('A3:A{}'.format(3+len(name)))\n",
    "A_col_range.value = [[value] for value in name]\n",
    "\n",
    "I_col_range = sheet.range('I3:I{}'.format(3+len(booth)))\n",
    "I_col_range.value = [[value] for value in booth]"
   ]
  },
  {
   "cell_type": "code",
   "execution_count": 17,
   "id": "19491036",
   "metadata": {},
   "outputs": [],
   "source": [
    "# add hyperlinks\n",
    "for i in range(len(link_list)):\n",
    "    row = 3+i    \n",
    "    cell_row, cell_column = row, 1\n",
    "    cell_address = (cell_row, cell_column)\n",
    "    sheet.range(cell_address).add_hyperlink(link_list[i], text_to_display=name[i])\n",
    "    sheet.range(cell_address).api.Font.Bold = True\n",
    "    sheet.range(cell_address).font.color = (0, 0, 0)\n",
    "    sheet.range(cell_address).api.Font.Size = 14\n",
    "    sheet.range(cell_address).api.Font.Name = 'Verdana'"
   ]
  },
  {
   "cell_type": "code",
   "execution_count": 33,
   "id": "e3acde9a",
   "metadata": {},
   "outputs": [],
   "source": [
    "# Iterate over the links\n",
    "austeller_text = []\n",
    "for link in link_list:\n",
    "    # Open a new tab and switch to it\n",
    "    driver.execute_script(\"window.open('', '_blank');\")\n",
    "    driver.switch_to.window(driver.window_handles[1])\n",
    "    # Navigate to the link\n",
    "    driver.get(link)\n",
    "    # Wait for some time to let the content load (you can adjust this time)\n",
    "    time.sleep(2)\n",
    "    try:\n",
    "        # Extract text from the webpage\n",
    "        webpage_text = driver.find_element_by_tag_name('body').text\n",
    "        austeller_text.append(webpage_text)\n",
    "    except NoSuchWindowException:\n",
    "        # Handle the case where the window is already closed\n",
    "        print(f\"Window for {link} is already closed.\")\n",
    "    # Close the tab\n",
    "    driver.close()\n",
    "    # Switch back to the original tab\n",
    "    driver.switch_to.window(driver.window_handles[0])"
   ]
  },
  {
   "cell_type": "code",
   "execution_count": 43,
   "id": "04f39e12",
   "metadata": {},
   "outputs": [],
   "source": [
    "land = []\n",
    "for i in range(len(austeller_text)):\n",
    "    land.append(austeller_text[i].split('Country\\n')[-1].split('\\n')[0])"
   ]
  },
  {
   "cell_type": "code",
   "execution_count": 45,
   "id": "73fbd6b2",
   "metadata": {},
   "outputs": [],
   "source": [
    "B_col_range = sheet.range('B3:B{}'.format(3+len(land)))\n",
    "B_col_range.value = [[value] for value in land]"
   ]
  },
  {
   "cell_type": "code",
   "execution_count": null,
   "id": "2f492433",
   "metadata": {},
   "outputs": [],
   "source": []
  }
 ],
 "metadata": {
  "kernelspec": {
   "display_name": "Python 3 (ipykernel)",
   "language": "python",
   "name": "python3"
  },
  "language_info": {
   "codemirror_mode": {
    "name": "ipython",
    "version": 3
   },
   "file_extension": ".py",
   "mimetype": "text/x-python",
   "name": "python",
   "nbconvert_exporter": "python",
   "pygments_lexer": "ipython3",
   "version": "3.9.16"
  }
 },
 "nbformat": 4,
 "nbformat_minor": 5
}
